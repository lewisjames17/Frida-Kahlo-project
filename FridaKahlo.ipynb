{
 "cells": [
  {
   "cell_type": "code",
   "execution_count": 2,
   "id": "f8fce18c-993f-468c-8caf-956142affc81",
   "metadata": {},
   "outputs": [],
   "source": [
    "paintings = [\"The Two Fridas\", \"My Dress Hangs Here\", \"Tree of Hope\", \"Self Portrait with Monkeys\"]"
   ]
  },
  {
   "cell_type": "code",
   "execution_count": 3,
   "id": "931285df-da3b-401e-b32b-869097231aa8",
   "metadata": {},
   "outputs": [],
   "source": [
    "dates = [1939, 1933, 1946, 1940]"
   ]
  },
  {
   "cell_type": "code",
   "execution_count": 7,
   "id": "27a942b2-fc36-47d4-9f71-12733d4d4b99",
   "metadata": {},
   "outputs": [],
   "source": [
    "paintings = list(zip(paintings, dates))"
   ]
  },
  {
   "cell_type": "code",
   "execution_count": 8,
   "id": "144e7a84-081a-4737-8123-7d9b8367498d",
   "metadata": {},
   "outputs": [
    {
     "name": "stdout",
     "output_type": "stream",
     "text": [
      "[('The Two Fridas', 1939), ('My Dress Hangs Here', 1933), ('Tree of Hope', 1946), ('Self Portrait with Monkeys', 1940)]\n"
     ]
    }
   ],
   "source": [
    "print(paintings)"
   ]
  },
  {
   "cell_type": "code",
   "execution_count": 14,
   "id": "2d1e7712-858d-460f-9eb3-b07617cd4606",
   "metadata": {},
   "outputs": [],
   "source": [
    "paintings.append ([\"The Broken Column\", 1994])\n",
    "paintings.append ([\"The Wounded Deer\", 1946])\n",
    "paintings.append ([\"Me and My Doll\", 1937])"
   ]
  },
  {
   "cell_type": "code",
   "execution_count": 15,
   "id": "b858cc2a-4bb3-495e-a00c-3ed647192fb4",
   "metadata": {},
   "outputs": [
    {
     "name": "stdout",
     "output_type": "stream",
     "text": [
      "[('The Two Fridas', 1939), ('My Dress Hangs Here', 1933), ('Tree of Hope', 1946), ('Self Portrait with Monkeys', 1940), ['The Broken Column', 1994], ['The Wounded Deer', 1946], ['Me and My Doll', 1937]]\n"
     ]
    }
   ],
   "source": [
    "print(paintings)"
   ]
  },
  {
   "cell_type": "code",
   "execution_count": 17,
   "id": "96a0fb6c-a821-4a71-b437-16bac2655e06",
   "metadata": {},
   "outputs": [],
   "source": [
    "length = len(paintings)"
   ]
  },
  {
   "cell_type": "code",
   "execution_count": 18,
   "id": "8321bd3c-6df0-44fa-9d68-46a2bb93f004",
   "metadata": {},
   "outputs": [
    {
     "name": "stdout",
     "output_type": "stream",
     "text": [
      "7\n"
     ]
    }
   ],
   "source": [
    "print(length)"
   ]
  },
  {
   "cell_type": "code",
   "execution_count": 33,
   "id": "267ee1e7-b9aa-47af-b7a8-ad2e3ab0edd3",
   "metadata": {},
   "outputs": [],
   "source": [
    "audio_tour_number = range(1, len(paintings) + 1)"
   ]
  },
  {
   "cell_type": "code",
   "execution_count": 34,
   "id": "e9d097fb-1eeb-45d8-91c3-0f80e76bd82e",
   "metadata": {},
   "outputs": [
    {
     "name": "stdout",
     "output_type": "stream",
     "text": [
      "range(1, 8)\n"
     ]
    }
   ],
   "source": [
    "print(audio_tour_number)"
   ]
  },
  {
   "cell_type": "code",
   "execution_count": 36,
   "id": "9f4694a4-f4aa-4a38-aaaa-0d368ab923d0",
   "metadata": {},
   "outputs": [],
   "source": [
    "master_list = list(zip(paintings, audio_tour_number))"
   ]
  },
  {
   "cell_type": "code",
   "execution_count": 37,
   "id": "4f0cbec9-ac75-4f17-883e-62f46b6117a6",
   "metadata": {},
   "outputs": [
    {
     "name": "stdout",
     "output_type": "stream",
     "text": [
      "[(('The Two Fridas', 1939), 1), (('My Dress Hangs Here', 1933), 2), (('Tree of Hope', 1946), 3), (('Self Portrait with Monkeys', 1940), 4), (['The Broken Column', 1994], 5), (['The Wounded Deer', 1946], 6), (['Me and My Doll', 1937], 7)]\n"
     ]
    }
   ],
   "source": [
    "print(master_list)"
   ]
  },
  {
   "cell_type": "code",
   "execution_count": null,
   "id": "b83434d8-5091-47cd-ba09-b9cb2d654b25",
   "metadata": {},
   "outputs": [],
   "source": []
  }
 ],
 "metadata": {
  "kernelspec": {
   "display_name": "Python [conda env:base] *",
   "language": "python",
   "name": "conda-base-py"
  },
  "language_info": {
   "codemirror_mode": {
    "name": "ipython",
    "version": 3
   },
   "file_extension": ".py",
   "mimetype": "text/x-python",
   "name": "python",
   "nbconvert_exporter": "python",
   "pygments_lexer": "ipython3",
   "version": "3.12.7"
  }
 },
 "nbformat": 4,
 "nbformat_minor": 5
}
